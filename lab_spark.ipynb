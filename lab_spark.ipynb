{
 "cells": [
  {
   "cell_type": "markdown",
   "id": "forward-leather",
   "metadata": {},
   "source": [
    "# ЛР по Spark"
   ]
  },
  {
   "cell_type": "code",
   "execution_count": 1,
   "id": "forty-tutorial",
   "metadata": {},
   "outputs": [],
   "source": [
    "from pyspark.sql import SparkSession\n",
    "import pandas as pd\n",
    "from pyspark.sql import Row\n",
    "import pyspark.sql.functions as F\n",
    "from pyspark.sql.types import ArrayType,StringType"
   ]
  },
  {
   "cell_type": "code",
   "execution_count": 4,
   "id": "wanted-consumer",
   "metadata": {},
   "outputs": [],
   "source": [
    "spark = SparkSession \\\n",
    "    .builder \\\n",
    "    .master(\"local\") \\\n",
    "    .config(\"spark.executor.memory\", \"70g\") \\\n",
    "    .config(\"spark.driver.memory\", \"50g\") \\\n",
    "    .config(\"spark.memory.offHeap.enabled\",True) \\\n",
    "    .config(\"spark.memory.offHeap.size\",\"16g\") \\\n",
    "    .appName(\"laba_po_spark\").getOrCreate()"
   ]
  },
  {
   "cell_type": "markdown",
   "id": "muslim-muslim",
   "metadata": {},
   "source": [
    "# Задание 1\n",
    "Для RDD и Dataframes"
   ]
  },
  {
   "cell_type": "code",
   "execution_count": 5,
   "id": "unlikely-motion",
   "metadata": {},
   "outputs": [],
   "source": [
    "data = pd.read_csv(\"dataset.csv\", header=None)\n",
    "data.columns = ['target','id','date','flag','user','text']\n",
    "\n",
    "#save changed data\n",
    "data.to_csv('edited_columns_dataset.csv',index=False)"
   ]
  },
  {
   "cell_type": "code",
   "execution_count": 6,
   "id": "welcome-fountain",
   "metadata": {},
   "outputs": [
    {
     "data": {
      "text/html": [
       "<div>\n",
       "<style scoped>\n",
       "    .dataframe tbody tr th:only-of-type {\n",
       "        vertical-align: middle;\n",
       "    }\n",
       "\n",
       "    .dataframe tbody tr th {\n",
       "        vertical-align: top;\n",
       "    }\n",
       "\n",
       "    .dataframe thead th {\n",
       "        text-align: right;\n",
       "    }\n",
       "</style>\n",
       "<table border=\"1\" class=\"dataframe\">\n",
       "  <thead>\n",
       "    <tr style=\"text-align: right;\">\n",
       "      <th></th>\n",
       "      <th>target</th>\n",
       "      <th>id</th>\n",
       "      <th>date</th>\n",
       "      <th>flag</th>\n",
       "      <th>user</th>\n",
       "      <th>text</th>\n",
       "    </tr>\n",
       "  </thead>\n",
       "  <tbody>\n",
       "    <tr>\n",
       "      <th>0</th>\n",
       "      <td>0</td>\n",
       "      <td>1467810369</td>\n",
       "      <td>Mon Apr 06 22:19:45 PDT 2009</td>\n",
       "      <td>NO_QUERY</td>\n",
       "      <td>_TheSpecialOne_</td>\n",
       "      <td>@switchfoot http://twitpic.com/2y1zl - Awww, t...</td>\n",
       "    </tr>\n",
       "    <tr>\n",
       "      <th>1</th>\n",
       "      <td>0</td>\n",
       "      <td>1467810672</td>\n",
       "      <td>Mon Apr 06 22:19:49 PDT 2009</td>\n",
       "      <td>NO_QUERY</td>\n",
       "      <td>scotthamilton</td>\n",
       "      <td>is upset that he can't update his Facebook by ...</td>\n",
       "    </tr>\n",
       "    <tr>\n",
       "      <th>2</th>\n",
       "      <td>0</td>\n",
       "      <td>1467810917</td>\n",
       "      <td>Mon Apr 06 22:19:53 PDT 2009</td>\n",
       "      <td>NO_QUERY</td>\n",
       "      <td>mattycus</td>\n",
       "      <td>@Kenichan I dived many times for the ball. Man...</td>\n",
       "    </tr>\n",
       "    <tr>\n",
       "      <th>3</th>\n",
       "      <td>0</td>\n",
       "      <td>1467811184</td>\n",
       "      <td>Mon Apr 06 22:19:57 PDT 2009</td>\n",
       "      <td>NO_QUERY</td>\n",
       "      <td>ElleCTF</td>\n",
       "      <td>my whole body feels itchy and like its on fire</td>\n",
       "    </tr>\n",
       "    <tr>\n",
       "      <th>4</th>\n",
       "      <td>0</td>\n",
       "      <td>1467811193</td>\n",
       "      <td>Mon Apr 06 22:19:57 PDT 2009</td>\n",
       "      <td>NO_QUERY</td>\n",
       "      <td>Karoli</td>\n",
       "      <td>@nationwideclass no, it's not behaving at all....</td>\n",
       "    </tr>\n",
       "  </tbody>\n",
       "</table>\n",
       "</div>"
      ],
      "text/plain": [
       "   target          id                          date      flag  \\\n",
       "0       0  1467810369  Mon Apr 06 22:19:45 PDT 2009  NO_QUERY   \n",
       "1       0  1467810672  Mon Apr 06 22:19:49 PDT 2009  NO_QUERY   \n",
       "2       0  1467810917  Mon Apr 06 22:19:53 PDT 2009  NO_QUERY   \n",
       "3       0  1467811184  Mon Apr 06 22:19:57 PDT 2009  NO_QUERY   \n",
       "4       0  1467811193  Mon Apr 06 22:19:57 PDT 2009  NO_QUERY   \n",
       "\n",
       "              user                                               text  \n",
       "0  _TheSpecialOne_  @switchfoot http://twitpic.com/2y1zl - Awww, t...  \n",
       "1    scotthamilton  is upset that he can't update his Facebook by ...  \n",
       "2         mattycus  @Kenichan I dived many times for the ball. Man...  \n",
       "3          ElleCTF    my whole body feels itchy and like its on fire   \n",
       "4           Karoli  @nationwideclass no, it's not behaving at all....  "
      ]
     },
     "execution_count": 6,
     "metadata": {},
     "output_type": "execute_result"
    }
   ],
   "source": [
    "data.head()"
   ]
  },
  {
   "cell_type": "markdown",
   "id": "brave-prince",
   "metadata": {},
   "source": [
    "## Прочитать датасет и вывести первые 20 записей "
   ]
  },
  {
   "cell_type": "markdown",
   "id": "enclosed-creator",
   "metadata": {},
   "source": [
    "Для RDD "
   ]
  },
  {
   "cell_type": "code",
   "execution_count": 11,
   "id": "blessed-trinidad",
   "metadata": {},
   "outputs": [],
   "source": [
    "data_rdd = (spark.sparkContext.textFile(\"edited_columns_dataset.csv\").map(lambda l: l.split(\",\"))\n",
    "          .map(lambda l: l[:5] + [','.join(l[5:])]))\n",
    "\n",
    "df_header = data_rdd.first()\n",
    "df_rdd_data = data_rdd.filter(lambda line: line != df_header)"
   ]
  },
  {
   "cell_type": "code",
   "execution_count": 12,
   "id": "departmental-morris",
   "metadata": {},
   "outputs": [
    {
     "data": {
      "text/plain": [
       "[['0',\n",
       "  '1467810369',\n",
       "  'Mon Apr 06 22:19:45 PDT 2009',\n",
       "  'NO_QUERY',\n",
       "  '_TheSpecialOne_',\n",
       "  '\"@switchfoot http://twitpic.com/2y1zl - Awww, that\\'s a bummer.  You shoulda got David Carr of Third Day to do it. ;D\"'],\n",
       " ['0',\n",
       "  '1467810672',\n",
       "  'Mon Apr 06 22:19:49 PDT 2009',\n",
       "  'NO_QUERY',\n",
       "  'scotthamilton',\n",
       "  \"is upset that he can't update his Facebook by texting it... and might cry as a result  School today also. Blah!\"],\n",
       " ['0',\n",
       "  '1467810917',\n",
       "  'Mon Apr 06 22:19:53 PDT 2009',\n",
       "  'NO_QUERY',\n",
       "  'mattycus',\n",
       "  '@Kenichan I dived many times for the ball. Managed to save 50%  The rest go out of bounds'],\n",
       " ['0',\n",
       "  '1467811184',\n",
       "  'Mon Apr 06 22:19:57 PDT 2009',\n",
       "  'NO_QUERY',\n",
       "  'ElleCTF',\n",
       "  'my whole body feels itchy and like its on fire '],\n",
       " ['0',\n",
       "  '1467811193',\n",
       "  'Mon Apr 06 22:19:57 PDT 2009',\n",
       "  'NO_QUERY',\n",
       "  'Karoli',\n",
       "  '\"@nationwideclass no, it\\'s not behaving at all. i\\'m mad. why am i here? because I can\\'t see you all over there. \"'],\n",
       " ['0',\n",
       "  '1467811372',\n",
       "  'Mon Apr 06 22:20:00 PDT 2009',\n",
       "  'NO_QUERY',\n",
       "  'joy_wolf',\n",
       "  '@Kwesidei not the whole crew '],\n",
       " ['0',\n",
       "  '1467811592',\n",
       "  'Mon Apr 06 22:20:03 PDT 2009',\n",
       "  'NO_QUERY',\n",
       "  'mybirch',\n",
       "  'Need a hug '],\n",
       " ['0',\n",
       "  '1467811594',\n",
       "  'Mon Apr 06 22:20:03 PDT 2009',\n",
       "  'NO_QUERY',\n",
       "  'coZZ',\n",
       "  '\"@LOLTrish hey  long time no see! Yes.. Rains a bit ,only a bit  LOL , I\\'m fine thanks , how\\'s you ?\"'],\n",
       " ['0',\n",
       "  '1467811795',\n",
       "  'Mon Apr 06 22:20:05 PDT 2009',\n",
       "  'NO_QUERY',\n",
       "  '2Hood4Hollywood',\n",
       "  \"@Tatiana_K nope they didn't have it \"],\n",
       " ['0',\n",
       "  '1467812025',\n",
       "  'Mon Apr 06 22:20:09 PDT 2009',\n",
       "  'NO_QUERY',\n",
       "  'mimismo',\n",
       "  '@twittera que me muera ? '],\n",
       " ['0',\n",
       "  '1467812416',\n",
       "  'Mon Apr 06 22:20:16 PDT 2009',\n",
       "  'NO_QUERY',\n",
       "  'erinx3leannexo',\n",
       "  \"spring break in plain city... it's snowing \"],\n",
       " ['0',\n",
       "  '1467812579',\n",
       "  'Mon Apr 06 22:20:17 PDT 2009',\n",
       "  'NO_QUERY',\n",
       "  'pardonlauren',\n",
       "  'I just re-pierced my ears '],\n",
       " ['0',\n",
       "  '1467812723',\n",
       "  'Mon Apr 06 22:20:19 PDT 2009',\n",
       "  'NO_QUERY',\n",
       "  'TLeC',\n",
       "  \"@caregiving I couldn't bear to watch it.  And I thought the UA loss was embarrassing . . . . .\"],\n",
       " ['0',\n",
       "  '1467812771',\n",
       "  'Mon Apr 06 22:20:19 PDT 2009',\n",
       "  'NO_QUERY',\n",
       "  'robrobbierobert',\n",
       "  '\"@octolinz16 It it counts, idk why I did either. you never talk to me anymore \"'],\n",
       " ['0',\n",
       "  '1467812784',\n",
       "  'Mon Apr 06 22:20:20 PDT 2009',\n",
       "  'NO_QUERY',\n",
       "  'bayofwolves',\n",
       "  '\"@smarrison i would\\'ve been the first, but i didn\\'t have a gun.    not really though, zac snyder\\'s just a doucheclown.\"'],\n",
       " ['0',\n",
       "  '1467812799',\n",
       "  'Mon Apr 06 22:20:20 PDT 2009',\n",
       "  'NO_QUERY',\n",
       "  'HairByJess',\n",
       "  '@iamjazzyfizzle I wish I got to watch it with you!! I miss you and @iamlilnicki  how was the premiere?!'],\n",
       " ['0',\n",
       "  '1467812964',\n",
       "  'Mon Apr 06 22:20:22 PDT 2009',\n",
       "  'NO_QUERY',\n",
       "  'lovesongwriter',\n",
       "  \"Hollis' death scene will hurt me severely to watch on film  wry is directors cut not out now?\"],\n",
       " ['0',\n",
       "  '1467813137',\n",
       "  'Mon Apr 06 22:20:25 PDT 2009',\n",
       "  'NO_QUERY',\n",
       "  'armotley',\n",
       "  'about to file taxes '],\n",
       " ['0',\n",
       "  '1467813579',\n",
       "  'Mon Apr 06 22:20:31 PDT 2009',\n",
       "  'NO_QUERY',\n",
       "  'starkissed',\n",
       "  '@LettyA ahh ive always wanted to see rent  love the soundtrack!!'],\n",
       " ['0',\n",
       "  '1467813782',\n",
       "  'Mon Apr 06 22:20:34 PDT 2009',\n",
       "  'NO_QUERY',\n",
       "  'gi_gi_bee',\n",
       "  '@FakerPattyPattz Oh dear. Were you drinking out of the forgotten table drinks? ']]"
      ]
     },
     "execution_count": 12,
     "metadata": {},
     "output_type": "execute_result"
    }
   ],
   "source": [
    "df_rdd_data.take(20)"
   ]
  },
  {
   "cell_type": "code",
   "execution_count": 14,
   "id": "infrared-mother",
   "metadata": {},
   "outputs": [
    {
     "data": {
      "text/plain": [
       "[Row(target=0, id=1467810369, date='Mon Apr 06 22:19:45 PDT 2009', flag='NO_QUERY', user='_TheSpecialOne_', text='\"@switchfoot http://twitpic.com/2y1zl - Awww, that\\'s a bummer.  You shoulda got David Carr of Third Day to do it. ;D\"'),\n",
       " Row(target=0, id=1467810672, date='Mon Apr 06 22:19:49 PDT 2009', flag='NO_QUERY', user='scotthamilton', text=\"is upset that he can't update his Facebook by texting it... and might cry as a result  School today also. Blah!\"),\n",
       " Row(target=0, id=1467810917, date='Mon Apr 06 22:19:53 PDT 2009', flag='NO_QUERY', user='mattycus', text='@Kenichan I dived many times for the ball. Managed to save 50%  The rest go out of bounds'),\n",
       " Row(target=0, id=1467811184, date='Mon Apr 06 22:19:57 PDT 2009', flag='NO_QUERY', user='ElleCTF', text='my whole body feels itchy and like its on fire '),\n",
       " Row(target=0, id=1467811193, date='Mon Apr 06 22:19:57 PDT 2009', flag='NO_QUERY', user='Karoli', text='\"@nationwideclass no, it\\'s not behaving at all. i\\'m mad. why am i here? because I can\\'t see you all over there. \"'),\n",
       " Row(target=0, id=1467811372, date='Mon Apr 06 22:20:00 PDT 2009', flag='NO_QUERY', user='joy_wolf', text='@Kwesidei not the whole crew '),\n",
       " Row(target=0, id=1467811592, date='Mon Apr 06 22:20:03 PDT 2009', flag='NO_QUERY', user='mybirch', text='Need a hug '),\n",
       " Row(target=0, id=1467811594, date='Mon Apr 06 22:20:03 PDT 2009', flag='NO_QUERY', user='coZZ', text='\"@LOLTrish hey  long time no see! Yes.. Rains a bit ,only a bit  LOL , I\\'m fine thanks , how\\'s you ?\"'),\n",
       " Row(target=0, id=1467811795, date='Mon Apr 06 22:20:05 PDT 2009', flag='NO_QUERY', user='2Hood4Hollywood', text=\"@Tatiana_K nope they didn't have it \"),\n",
       " Row(target=0, id=1467812025, date='Mon Apr 06 22:20:09 PDT 2009', flag='NO_QUERY', user='mimismo', text='@twittera que me muera ? '),\n",
       " Row(target=0, id=1467812416, date='Mon Apr 06 22:20:16 PDT 2009', flag='NO_QUERY', user='erinx3leannexo', text=\"spring break in plain city... it's snowing \"),\n",
       " Row(target=0, id=1467812579, date='Mon Apr 06 22:20:17 PDT 2009', flag='NO_QUERY', user='pardonlauren', text='I just re-pierced my ears '),\n",
       " Row(target=0, id=1467812723, date='Mon Apr 06 22:20:19 PDT 2009', flag='NO_QUERY', user='TLeC', text=\"@caregiving I couldn't bear to watch it.  And I thought the UA loss was embarrassing . . . . .\"),\n",
       " Row(target=0, id=1467812771, date='Mon Apr 06 22:20:19 PDT 2009', flag='NO_QUERY', user='robrobbierobert', text='\"@octolinz16 It it counts, idk why I did either. you never talk to me anymore \"'),\n",
       " Row(target=0, id=1467812784, date='Mon Apr 06 22:20:20 PDT 2009', flag='NO_QUERY', user='bayofwolves', text='\"@smarrison i would\\'ve been the first, but i didn\\'t have a gun.    not really though, zac snyder\\'s just a doucheclown.\"'),\n",
       " Row(target=0, id=1467812799, date='Mon Apr 06 22:20:20 PDT 2009', flag='NO_QUERY', user='HairByJess', text='@iamjazzyfizzle I wish I got to watch it with you!! I miss you and @iamlilnicki  how was the premiere?!'),\n",
       " Row(target=0, id=1467812964, date='Mon Apr 06 22:20:22 PDT 2009', flag='NO_QUERY', user='lovesongwriter', text=\"Hollis' death scene will hurt me severely to watch on film  wry is directors cut not out now?\"),\n",
       " Row(target=0, id=1467813137, date='Mon Apr 06 22:20:25 PDT 2009', flag='NO_QUERY', user='armotley', text='about to file taxes '),\n",
       " Row(target=0, id=1467813579, date='Mon Apr 06 22:20:31 PDT 2009', flag='NO_QUERY', user='starkissed', text='@LettyA ahh ive always wanted to see rent  love the soundtrack!!'),\n",
       " Row(target=0, id=1467813782, date='Mon Apr 06 22:20:34 PDT 2009', flag='NO_QUERY', user='gi_gi_bee', text='@FakerPattyPattz Oh dear. Were you drinking out of the forgotten table drinks? ')]"
      ]
     },
     "execution_count": 14,
     "metadata": {},
     "output_type": "execute_result"
    }
   ],
   "source": [
    "rdd_data = df_rdd_data.map(lambda l: Row(target=int(l[0]), id=int(l[1]), date=l[2], flag=l[3], user=l[4], text=l[5]))\n",
    "rdd_data.take(20)"
   ]
  },
  {
   "cell_type": "markdown",
   "id": "mobile-phoenix",
   "metadata": {},
   "source": [
    "Для Dataframe "
   ]
  },
  {
   "cell_type": "code",
   "execution_count": 17,
   "id": "absolute-infection",
   "metadata": {},
   "outputs": [
    {
     "name": "stdout",
     "output_type": "stream",
     "text": [
      "+------+----------+--------------------+--------+---------------+--------------------+\n",
      "|target|        id|                date|    flag|           user|                text|\n",
      "+------+----------+--------------------+--------+---------------+--------------------+\n",
      "|     0|1467810369|Mon Apr 06 22:19:...|NO_QUERY|_TheSpecialOne_|@switchfoot http:...|\n",
      "|     0|1467810672|Mon Apr 06 22:19:...|NO_QUERY|  scotthamilton|is upset that he ...|\n",
      "|     0|1467810917|Mon Apr 06 22:19:...|NO_QUERY|       mattycus|@Kenichan I dived...|\n",
      "|     0|1467811184|Mon Apr 06 22:19:...|NO_QUERY|        ElleCTF|my whole body fee...|\n",
      "|     0|1467811193|Mon Apr 06 22:19:...|NO_QUERY|         Karoli|@nationwideclass ...|\n",
      "|     0|1467811372|Mon Apr 06 22:20:...|NO_QUERY|       joy_wolf|@Kwesidei not the...|\n",
      "|     0|1467811592|Mon Apr 06 22:20:...|NO_QUERY|        mybirch|         Need a hug |\n",
      "|     0|1467811594|Mon Apr 06 22:20:...|NO_QUERY|           coZZ|@LOLTrish hey  lo...|\n",
      "|     0|1467811795|Mon Apr 06 22:20:...|NO_QUERY|2Hood4Hollywood|@Tatiana_K nope t...|\n",
      "|     0|1467812025|Mon Apr 06 22:20:...|NO_QUERY|        mimismo|@twittera que me ...|\n",
      "|     0|1467812416|Mon Apr 06 22:20:...|NO_QUERY| erinx3leannexo|spring break in p...|\n",
      "|     0|1467812579|Mon Apr 06 22:20:...|NO_QUERY|   pardonlauren|I just re-pierced...|\n",
      "|     0|1467812723|Mon Apr 06 22:20:...|NO_QUERY|           TLeC|@caregiving I cou...|\n",
      "|     0|1467812771|Mon Apr 06 22:20:...|NO_QUERY|robrobbierobert|@octolinz16 It it...|\n",
      "|     0|1467812784|Mon Apr 06 22:20:...|NO_QUERY|    bayofwolves|@smarrison i woul...|\n",
      "|     0|1467812799|Mon Apr 06 22:20:...|NO_QUERY|     HairByJess|@iamjazzyfizzle I...|\n",
      "|     0|1467812964|Mon Apr 06 22:20:...|NO_QUERY| lovesongwriter|Hollis' death sce...|\n",
      "|     0|1467813137|Mon Apr 06 22:20:...|NO_QUERY|       armotley|about to file taxes |\n",
      "|     0|1467813579|Mon Apr 06 22:20:...|NO_QUERY|     starkissed|@LettyA ahh ive a...|\n",
      "|     0|1467813782|Mon Apr 06 22:20:...|NO_QUERY|      gi_gi_bee|@FakerPattyPattz ...|\n",
      "+------+----------+--------------------+--------+---------------+--------------------+\n",
      "only showing top 20 rows\n",
      "\n"
     ]
    }
   ],
   "source": [
    "df = spark.read.option(\"header\",True).csv(\"edited_columns_dataset.csv\")\n",
    "df.show(20)"
   ]
  },
  {
   "cell_type": "markdown",
   "id": "circular-general",
   "metadata": {},
   "source": [
    "## Посчитать количество слов во всех твитах датасета "
   ]
  },
  {
   "cell_type": "markdown",
   "id": "tight-outside",
   "metadata": {},
   "source": [
    "Для RDD"
   ]
  },
  {
   "cell_type": "markdown",
   "id": "equipped-singer",
   "metadata": {},
   "source": [
    "Посчитать количество слов во всех твитах датасета"
   ]
  },
  {
   "cell_type": "code",
   "execution_count": 24,
   "id": "multiple-airfare",
   "metadata": {},
   "outputs": [
    {
     "data": {
      "text/plain": [
       "21347893"
      ]
     },
     "execution_count": 24,
     "metadata": {},
     "output_type": "execute_result"
    }
   ],
   "source": [
    "rdd_data.map(lambda row: (row.id,len((row.text.split())))) \\\n",
    "    .values() \\\n",
    "    .sum()"
   ]
  },
  {
   "cell_type": "markdown",
   "id": "unknown-settlement",
   "metadata": {},
   "source": [
    "Кол-во слов в каждом твите."
   ]
  },
  {
   "cell_type": "code",
   "execution_count": 18,
   "id": "prescription-fountain",
   "metadata": {},
   "outputs": [
    {
     "data": {
      "text/plain": [
       "[(1467810369, 19),\n",
       " (1467810672, 21),\n",
       " (1467810917, 18),\n",
       " (1467811184, 10),\n",
       " (1467811193, 22),\n",
       " (1467811372, 5),\n",
       " (1467811592, 3),\n",
       " (1467811594, 22),\n",
       " (1467811795, 6),\n",
       " (1467812025, 5),\n",
       " (1467812416, 7),\n",
       " (1467812579, 5),\n",
       " (1467812723, 20),\n",
       " (1467812771, 16),\n",
       " (1467812784, 20),\n",
       " (1467812799, 19),\n",
       " (1467812964, 18),\n",
       " (1467813137, 4),\n",
       " (1467813579, 11),\n",
       " (1467813782, 12)]"
      ]
     },
     "execution_count": 18,
     "metadata": {},
     "output_type": "execute_result"
    }
   ],
   "source": [
    "rdd_data.map(lambda row: (row.id, len(row.text.split()))).take(20)"
   ]
  },
  {
   "cell_type": "markdown",
   "id": "monetary-tension",
   "metadata": {},
   "source": [
    "Посчитать количество уникальных слов во всех твитах"
   ]
  },
  {
   "cell_type": "code",
   "execution_count": 26,
   "id": "signal-turkey",
   "metadata": {},
   "outputs": [
    {
     "data": {
      "text/plain": [
       "1288669"
      ]
     },
     "execution_count": 26,
     "metadata": {},
     "output_type": "execute_result"
    }
   ],
   "source": [
    "rdd_data.flatMap(lambda row: row.text.lower().split()) \\\n",
    "    .map(lambda word: (word,1)) \\\n",
    "    .reduceByKey(lambda a, b: a + b) \\\n",
    "    .keys() \\\n",
    "    .count()"
   ]
  },
  {
   "cell_type": "markdown",
   "id": "adolescent-praise",
   "metadata": {},
   "source": [
    "Для Dataframe "
   ]
  },
  {
   "cell_type": "markdown",
   "id": "finnish-review",
   "metadata": {},
   "source": [
    "Посчитать количество слов во всех твитах датасета"
   ]
  },
  {
   "cell_type": "code",
   "execution_count": 29,
   "id": "reserved-journey",
   "metadata": {},
   "outputs": [
    {
     "data": {
      "text/plain": [
       "21080792"
      ]
     },
     "execution_count": 29,
     "metadata": {},
     "output_type": "execute_result"
    }
   ],
   "source": [
    "df.withColumn('text',F.lower(F.col('text'))) \\\n",
    "    .withColumn('list_text', F.array_remove(F.split(F.col('text'),' '), '')) \\\n",
    "    .withColumn('word',F.explode(F.col('list_text'))) \\\n",
    "    .select('word') \\\n",
    "    .count()"
   ]
  },
  {
   "cell_type": "markdown",
   "id": "official-hometown",
   "metadata": {},
   "source": [
    "Кол-во слов в каждом твите."
   ]
  },
  {
   "cell_type": "code",
   "execution_count": 31,
   "id": "tamil-vacation",
   "metadata": {},
   "outputs": [
    {
     "name": "stdout",
     "output_type": "stream",
     "text": [
      "+----------+---------------+\n",
      "|        id|number_of_words|\n",
      "+----------+---------------+\n",
      "|1467810369|             19|\n",
      "|1467810672|             21|\n",
      "|1467810917|             18|\n",
      "|1467811184|             10|\n",
      "|1467811193|             21|\n",
      "|1467811372|              5|\n",
      "|1467811592|              3|\n",
      "|1467811594|             22|\n",
      "|1467811795|              6|\n",
      "|1467812025|              5|\n",
      "|1467812416|              7|\n",
      "|1467812579|              5|\n",
      "|1467812723|             20|\n",
      "|1467812771|             15|\n",
      "|1467812784|             20|\n",
      "|1467812799|             19|\n",
      "|1467812964|             18|\n",
      "|1467813137|              4|\n",
      "|1467813579|             11|\n",
      "|1467813782|             12|\n",
      "+----------+---------------+\n",
      "only showing top 20 rows\n",
      "\n"
     ]
    }
   ],
   "source": [
    "df.withColumn('text',F.lower(F.col('text'))) \\\n",
    "    .withColumn('list_text', F.array_remove(F.split(F.col('text'),' '), '')) \\\n",
    "    .withColumn('number_of_words', F.size(F.col('list_text'))) \\\n",
    "    .select('id','number_of_words').show() "
   ]
  },
  {
   "cell_type": "markdown",
   "id": "interpreted-helen",
   "metadata": {},
   "source": [
    "Посчитать количество уникальных слов во всех твитах"
   ]
  },
  {
   "cell_type": "code",
   "execution_count": 32,
   "id": "unsigned-affiliation",
   "metadata": {},
   "outputs": [
    {
     "data": {
      "text/plain": [
       "1193360"
      ]
     },
     "execution_count": 32,
     "metadata": {},
     "output_type": "execute_result"
    }
   ],
   "source": [
    "df.withColumn('text',F.lower(F.col('text'))) \\\n",
    "    .withColumn('list_text', F.array_remove(F.split(F.col('text'),' '), '')) \\\n",
    "    .withColumn('word',F.explode(F.col('list_text'))) \\\n",
    "    .select('word') \\\n",
    "    .dropDuplicates() \\\n",
    "    .count()"
   ]
  },
  {
   "cell_type": "markdown",
   "id": "effective-alabama",
   "metadata": {},
   "source": [
    "Уникальные слова в каждом посте."
   ]
  },
  {
   "cell_type": "code",
   "execution_count": 35,
   "id": "permanent-firmware",
   "metadata": {},
   "outputs": [
    {
     "name": "stdout",
     "output_type": "stream",
     "text": [
      "+----------+-----------------+----------+\n",
      "|        id|total_words_count|unic_words|\n",
      "+----------+-----------------+----------+\n",
      "|1467810369|               19|        19|\n",
      "|1467810672|               21|        21|\n",
      "|1467810917|               18|        17|\n",
      "|1467811184|               10|        10|\n",
      "|1467811193|               21|        20|\n",
      "|1467811372|                5|         5|\n",
      "|1467811592|                3|         3|\n",
      "|1467811594|               22|        19|\n",
      "|1467811795|                6|         6|\n",
      "|1467812025|                5|         5|\n",
      "+----------+-----------------+----------+\n",
      "only showing top 10 rows\n",
      "\n"
     ]
    }
   ],
   "source": [
    "def transform_arr_to_set(arr):\n",
    "    return list(set(arr))\n",
    "\n",
    "arr_to_set = F.udf(transform_arr_to_set, ArrayType(StringType()))\n",
    "\n",
    "df.withColumn('text',F.lower(F.col('text'))) \\\n",
    "    .withColumn('list_text', F.array_remove(F.split(F.col('text'),' '), '')) \\\n",
    "    .withColumn('total_words_count', F.size(F.col('list_text'))) \\\n",
    "    .withColumn(\"set_text\", arr_to_set(F.col(\"list_text\"))) \\\n",
    "    .withColumn(\"unic_words\",F.size(F.col(\"set_text\"))) \\\n",
    "    .select('id','total_words_count','unic_words') \\\n",
    "    .show(10)"
   ]
  },
  {
   "cell_type": "markdown",
   "id": "discrete-programming",
   "metadata": {},
   "source": [
    "# Задание 2 \n",
    "Для Dataframe"
   ]
  },
  {
   "cell_type": "markdown",
   "id": "norwegian-juice",
   "metadata": {},
   "source": [
    "Найти пользователей с наибольшим числом постов и вывести первые 20 из них"
   ]
  },
  {
   "cell_type": "code",
   "execution_count": 36,
   "id": "ecological-strip",
   "metadata": {},
   "outputs": [
    {
     "name": "stdout",
     "output_type": "stream",
     "text": [
      "+---------------+-----------+\n",
      "|           user|post_number|\n",
      "+---------------+-----------+\n",
      "|       lost_dog|        549|\n",
      "|        webwoke|        345|\n",
      "|       tweetpet|        310|\n",
      "|SallytheShizzle|        281|\n",
      "|    VioletsCRUK|        279|\n",
      "|    mcraddictal|        276|\n",
      "|       tsarnick|        248|\n",
      "|    what_bugs_u|        246|\n",
      "|    Karen230683|        238|\n",
      "|      DarkPiano|        236|\n",
      "|   SongoftheOss|        227|\n",
      "|      Jayme1988|        225|\n",
      "|         keza34|        219|\n",
      "| ramdomthoughts|        216|\n",
      "|      shanajaca|        213|\n",
      "|         wowlew|        212|\n",
      "|   TraceyHewins|        211|\n",
      "|     nuttychris|        211|\n",
      "|   thisgoeshere|        207|\n",
      "|     Spidersamm|        205|\n",
      "+---------------+-----------+\n",
      "only showing top 20 rows\n",
      "\n"
     ]
    }
   ],
   "source": [
    "df.groupby('user') \\\n",
    "    .agg(F.countDistinct('id').alias('post_number')) \\\n",
    "    .sort(F.col('post_number').desc()) \\\n",
    "    .show()"
   ]
  },
  {
   "cell_type": "markdown",
   "id": "australian-local",
   "metadata": {},
   "source": [
    "Найти пользователей с наибольшим числом слов"
   ]
  },
  {
   "cell_type": "code",
   "execution_count": 37,
   "id": "civic-anime",
   "metadata": {},
   "outputs": [
    {
     "name": "stdout",
     "output_type": "stream",
     "text": [
      "+---------------+------------+\n",
      "|           user|words_number|\n",
      "+---------------+------------+\n",
      "|       lost_dog|        6588|\n",
      "|    what_bugs_u|        5177|\n",
      "|    VioletsCRUK|        5108|\n",
      "|SallytheShizzle|        4480|\n",
      "|      shanajaca|        3698|\n",
      "| felicityfuller|        3626|\n",
      "|   SongoftheOss|        3436|\n",
      "|          StDAY|        3341|\n",
      "|     nuttychris|        3309|\n",
      "| ramdomthoughts|        3229|\n",
      "|       tsarnick|        3170|\n",
      "|    mcraddictal|        3145|\n",
      "|     Spidersamm|        3028|\n",
      "|   JessMcFlyxxx|        2989|\n",
      "|   thisgoeshere|        2977|\n",
      "|    linnetwoods|        2928|\n",
      "|    Dutchrudder|        2897|\n",
      "|MTVnHollyWEST23|        2821|\n",
      "| JBnVFCLover786|        2785|\n",
      "|torilovesbradie|        2748|\n",
      "+---------------+------------+\n",
      "only showing top 20 rows\n",
      "\n"
     ]
    }
   ],
   "source": [
    "df.withColumn('text',F.lower(F.col('text'))) \\\n",
    "    .withColumn('list_text', F.split(F.col('text'),' ')) \\\n",
    "    .withColumn('total_words', F.size(F.col('list_text'))) \\\n",
    "    .groupby('user') \\\n",
    "    .agg(F.sum(F.col('total_words')).alias('words_number')) \\\n",
    "    .sort(F.col('words_number').desc()) \\\n",
    "    .show()"
   ]
  },
  {
   "cell_type": "markdown",
   "id": "union-acrobat",
   "metadata": {},
   "source": [
    "Найти пользователей с наибольшим количеством упоминаний"
   ]
  },
  {
   "cell_type": "code",
   "execution_count": 38,
   "id": "painful-pledge",
   "metadata": {},
   "outputs": [
    {
     "name": "stdout",
     "output_type": "stream",
     "text": [
      "+----------------+------------+\n",
      "|            word|posts_number|\n",
      "+----------------+------------+\n",
      "|     @mileycyrus|        4359|\n",
      "|       @tommcfly|        3833|\n",
      "|       @ddlovato|        3337|\n",
      "|  @jonasbrothers|        2318|\n",
      "| @donniewahlberg|        1301|\n",
      "|    @davidarchie|        1299|\n",
      "|@jonathanrknight|        1231|\n",
      "|   @jordanknight|        1121|\n",
      "|   @mitchelmusso|        1053|\n",
      "|  @taylorswift13|         985|\n",
      "|    @dougiemcfly|         784|\n",
      "|    @selenagomez|         782|\n",
      "|     @dannymcfly|         674|\n",
      "|         @aplusk|         606|\n",
      "| @peterfacinelli|         604|\n",
      "|   @joeymcintyre|         594|\n",
      "|         @youngq|         553|\n",
      "|    @gfalcone601|         537|\n",
      "|   @shaundiviney|         504|\n",
      "|    @perezhilton|         470|\n",
      "+----------------+------------+\n",
      "only showing top 20 rows\n",
      "\n"
     ]
    }
   ],
   "source": [
    "df.withColumn('text',F.lower(F.col('text'))) \\\n",
    "    .withColumn('list_text', F.split(F.col('text'),' ')) \\\n",
    "    .withColumn('word',F.explode(F.col('list_text'))) \\\n",
    "    .filter((F.col('word').like('@%')) & (F.length(F.col('word')) > 1)) \\\n",
    "    .groupby('word') \\\n",
    "    .agg(F.countDistinct('id').alias('posts_number')) \\\n",
    "    .sort(F.col('posts_number').desc()) \\\n",
    "    .show()"
   ]
  },
  {
   "cell_type": "markdown",
   "id": "regulation-smoke",
   "metadata": {},
   "source": [
    "Посчитать наиболее популярные для твитов дни и вывести их в порядке убывания "
   ]
  },
  {
   "cell_type": "code",
   "execution_count": 40,
   "id": "martial-evans",
   "metadata": {},
   "outputs": [
    {
     "name": "stdout",
     "output_type": "stream",
     "text": [
      "+--------+------------+\n",
      "|week_day|posts_number|\n",
      "+--------+------------+\n",
      "|     Sun|      344097|\n",
      "|     Sat|      330601|\n",
      "|     Mon|      309823|\n",
      "|     Fri|      225405|\n",
      "|     Tue|      185667|\n",
      "|     Thu|      105977|\n",
      "|     Wed|       96745|\n",
      "+--------+------------+\n",
      "\n"
     ]
    }
   ],
   "source": [
    "df.withColumn('week_day',F.split(F.col('date'),' ').getItem(0)) \\\n",
    "    .groupby('week_day') \\\n",
    "    .agg(F.countDistinct('id').alias('posts_number')) \\\n",
    "    .sort(F.col('posts_number').desc()) \\\n",
    "    .show()"
   ]
  },
  {
   "cell_type": "markdown",
   "id": "hearing-medicine",
   "metadata": {},
   "source": [
    "Посчитать наиболее популярный часы для твитов"
   ]
  },
  {
   "cell_type": "code",
   "execution_count": 41,
   "id": "delayed-flavor",
   "metadata": {},
   "outputs": [
    {
     "name": "stdout",
     "output_type": "stream",
     "text": [
      "+----+------------+\n",
      "|hour|posts_number|\n",
      "+----+------------+\n",
      "|  23|       84652|\n",
      "|   7|       83577|\n",
      "|   0|       80760|\n",
      "|   6|       80758|\n",
      "|   5|       78512|\n",
      "|  22|       78263|\n",
      "|   4|       76883|\n",
      "|   8|       76217|\n",
      "|   1|       75157|\n",
      "|   3|       74136|\n",
      "|   2|       73857|\n",
      "|  21|       68908|\n",
      "|   9|       67212|\n",
      "|  11|       60947|\n",
      "|  10|       60630|\n",
      "|  19|       57693|\n",
      "|  20|       57016|\n",
      "|  16|       55674|\n",
      "|  18|       53443|\n",
      "|  17|       51804|\n",
      "+----+------------+\n",
      "only showing top 20 rows\n",
      "\n"
     ]
    }
   ],
   "source": [
    "df.withColumn('time',F.split(F.col('date'),' ').getItem(3)) \\\n",
    "    .withColumn('hour',F.hour(F.to_timestamp(F.col('time'),'HH:mm:ss'))) \\\n",
    "    .groupby('hour') \\\n",
    "    .agg(F.countDistinct('id').alias('posts_number')) \\\n",
    "    .sort(F.col('posts_number').desc()) \\\n",
    "    .show()"
   ]
  },
  {
   "cell_type": "markdown",
   "id": "accredited-radio",
   "metadata": {},
   "source": [
    "# Задание 3: выполнить примеры\n",
    "\n",
    "https://spark.apache.org/docs/latest/ml-statistics.html https://spark.apache.org/docs/latest/ml-pipeline.html"
   ]
  },
  {
   "cell_type": "markdown",
   "id": "informed-degree",
   "metadata": {},
   "source": [
    "## Basic Statistics "
   ]
  },
  {
   "cell_type": "markdown",
   "id": "chief-festival",
   "metadata": {},
   "source": [
    "### Correlation "
   ]
  },
  {
   "cell_type": "code",
   "execution_count": 24,
   "id": "strategic-synthetic",
   "metadata": {},
   "outputs": [
    {
     "name": "stdout",
     "output_type": "stream",
     "text": [
      "Pearson correlation matrix:\n",
      "DenseMatrix([[1.        , 0.05564149,        nan, 0.40047142],\n",
      "             [0.05564149, 1.        ,        nan, 0.91359586],\n",
      "             [       nan,        nan, 1.        ,        nan],\n",
      "             [0.40047142, 0.91359586,        nan, 1.        ]])\n",
      "Spearman correlation matrix:\n",
      "DenseMatrix([[1.        , 0.10540926,        nan, 0.4       ],\n",
      "             [0.10540926, 1.        ,        nan, 0.9486833 ],\n",
      "             [       nan,        nan, 1.        ,        nan],\n",
      "             [0.4       , 0.9486833 ,        nan, 1.        ]])\n"
     ]
    }
   ],
   "source": [
    "from pyspark.ml.linalg import Vectors\n",
    "from pyspark.ml.stat import Correlation\n",
    "\n",
    "data = [(Vectors.sparse(4, [(0, 1.0), (3, -2.0)]),),\n",
    "        (Vectors.dense([4.0, 5.0, 0.0, 3.0]),),\n",
    "        (Vectors.dense([6.0, 7.0, 0.0, 8.0]),),\n",
    "        (Vectors.sparse(4, [(0, 9.0), (3, 1.0)]),)]\n",
    "df = spark.createDataFrame(data, [\"features\"])\n",
    "\n",
    "r1 = Correlation.corr(df, \"features\").head()\n",
    "print(\"Pearson correlation matrix:\\n\" + str(r1[0]))\n",
    "\n",
    "r2 = Correlation.corr(df, \"features\", \"spearman\").head()\n",
    "print(\"Spearman correlation matrix:\\n\" + str(r2[0]))"
   ]
  },
  {
   "cell_type": "markdown",
   "id": "unknown-retro",
   "metadata": {},
   "source": [
    "### ChiSquareTest "
   ]
  },
  {
   "cell_type": "code",
   "execution_count": 25,
   "id": "orange-convergence",
   "metadata": {},
   "outputs": [
    {
     "name": "stdout",
     "output_type": "stream",
     "text": [
      "pValues: [0.6872892787909721,0.6822703303362126]\n",
      "degreesOfFreedom: [2, 3]\n",
      "statistics: [0.75,1.5]\n"
     ]
    }
   ],
   "source": [
    "from pyspark.ml.stat import ChiSquareTest\n",
    "\n",
    "data = [(0.0, Vectors.dense(0.5, 10.0)),\n",
    "        (0.0, Vectors.dense(1.5, 20.0)),\n",
    "        (1.0, Vectors.dense(1.5, 30.0)),\n",
    "        (0.0, Vectors.dense(3.5, 30.0)),\n",
    "        (0.0, Vectors.dense(3.5, 40.0)),\n",
    "        (1.0, Vectors.dense(3.5, 40.0))]\n",
    "df = spark.createDataFrame(data, [\"label\", \"features\"])\n",
    "\n",
    "r = ChiSquareTest.test(df, \"features\", \"label\").head()\n",
    "print(\"pValues: \" + str(r.pValues))\n",
    "print(\"degreesOfFreedom: \" + str(r.degreesOfFreedom))\n",
    "print(\"statistics: \" + str(r.statistics))"
   ]
  },
  {
   "cell_type": "markdown",
   "id": "ruled-access",
   "metadata": {},
   "source": [
    "### Summarizer "
   ]
  },
  {
   "cell_type": "code",
   "execution_count": 26,
   "id": "deadly-efficiency",
   "metadata": {},
   "outputs": [
    {
     "name": "stdout",
     "output_type": "stream",
     "text": [
      "+-----------------------------------+\n",
      "|aggregate_metrics(features, weight)|\n",
      "+-----------------------------------+\n",
      "|{[1.0,1.0,1.0], 1}                 |\n",
      "+-----------------------------------+\n",
      "\n",
      "+--------------------------------+\n",
      "|aggregate_metrics(features, 1.0)|\n",
      "+--------------------------------+\n",
      "|{[1.0,1.5,2.0], 2}              |\n",
      "+--------------------------------+\n",
      "\n",
      "+--------------+\n",
      "|mean(features)|\n",
      "+--------------+\n",
      "|[1.0,1.0,1.0] |\n",
      "+--------------+\n",
      "\n",
      "+--------------+\n",
      "|mean(features)|\n",
      "+--------------+\n",
      "|[1.0,1.5,2.0] |\n",
      "+--------------+\n",
      "\n"
     ]
    }
   ],
   "source": [
    "from pyspark.ml.stat import Summarizer\n",
    "from pyspark.sql import Row\n",
    "from pyspark.ml.linalg import Vectors\n",
    "\n",
    "df = spark.sparkContext.parallelize([Row(weight=1.0, features=Vectors.dense(1.0, 1.0, 1.0)),\n",
    "                     Row(weight=0.0, features=Vectors.dense(1.0, 2.0, 3.0))]).toDF()\n",
    "\n",
    "# create summarizer for multiple metrics \"mean\" and \"count\"\n",
    "summarizer = Summarizer.metrics(\"mean\", \"count\")\n",
    "\n",
    "# compute statistics for multiple metrics with weight\n",
    "df.select(summarizer.summary(df.features, df.weight)).show(truncate=False)\n",
    "\n",
    "# compute statistics for multiple metrics without weight\n",
    "df.select(summarizer.summary(df.features)).show(truncate=False)\n",
    "\n",
    "# compute statistics for single metric \"mean\" with weight\n",
    "df.select(Summarizer.mean(df.features, df.weight)).show(truncate=False)\n",
    "\n",
    "# compute statistics for single metric \"mean\" without weight\n",
    "df.select(Summarizer.mean(df.features)).show(truncate=False)"
   ]
  },
  {
   "cell_type": "markdown",
   "id": "personalized-chest",
   "metadata": {},
   "source": [
    "## ML Pipelines "
   ]
  },
  {
   "cell_type": "markdown",
   "id": "essential-delicious",
   "metadata": {},
   "source": [
    "## Example: Estimator, Transformer, and Param "
   ]
  },
  {
   "cell_type": "code",
   "execution_count": 27,
   "id": "subsequent-clock",
   "metadata": {},
   "outputs": [
    {
     "name": "stdout",
     "output_type": "stream",
     "text": [
      "LogisticRegression parameters:\n",
      "aggregationDepth: suggested depth for treeAggregate (>= 2). (default: 2)\n",
      "elasticNetParam: the ElasticNet mixing parameter, in range [0, 1]. For alpha = 0, the penalty is an L2 penalty. For alpha = 1, it is an L1 penalty. (default: 0.0)\n",
      "family: The name of family which is a description of the label distribution to be used in the model. Supported options: auto, binomial, multinomial (default: auto)\n",
      "featuresCol: features column name. (default: features)\n",
      "fitIntercept: whether to fit an intercept term. (default: True)\n",
      "labelCol: label column name. (default: label)\n",
      "lowerBoundsOnCoefficients: The lower bounds on coefficients if fitting under bound constrained optimization. The bound matrix must be compatible with the shape (1, number of features) for binomial regression, or (number of classes, number of features) for multinomial regression. (undefined)\n",
      "lowerBoundsOnIntercepts: The lower bounds on intercepts if fitting under bound constrained optimization. The bounds vector size must beequal with 1 for binomial regression, or the number oflasses for multinomial regression. (undefined)\n",
      "maxBlockSizeInMB: maximum memory in MB for stacking input data into blocks. Data is stacked within partitions. If more than remaining data size in a partition then it is adjusted to the data size. Default 0.0 represents choosing optimal value, depends on specific algorithm. Must be >= 0. (default: 0.0)\n",
      "maxIter: max number of iterations (>= 0). (default: 100, current: 10)\n",
      "predictionCol: prediction column name. (default: prediction)\n",
      "probabilityCol: Column name for predicted class conditional probabilities. Note: Not all models output well-calibrated probability estimates! These probabilities should be treated as confidences, not precise probabilities. (default: probability)\n",
      "rawPredictionCol: raw prediction (a.k.a. confidence) column name. (default: rawPrediction)\n",
      "regParam: regularization parameter (>= 0). (default: 0.0, current: 0.01)\n",
      "standardization: whether to standardize the training features before fitting the model. (default: True)\n",
      "threshold: Threshold in binary classification prediction, in range [0, 1]. If threshold and thresholds are both set, they must match.e.g. if threshold is p, then thresholds must be equal to [1-p, p]. (default: 0.5)\n",
      "thresholds: Thresholds in multi-class classification to adjust the probability of predicting each class. Array must have length equal to the number of classes, with values > 0, excepting that at most one value may be 0. The class with largest value p/t is predicted, where p is the original probability of that class and t is the class's threshold. (undefined)\n",
      "tol: the convergence tolerance for iterative algorithms (>= 0). (default: 1e-06)\n",
      "upperBoundsOnCoefficients: The upper bounds on coefficients if fitting under bound constrained optimization. The bound matrix must be compatible with the shape (1, number of features) for binomial regression, or (number of classes, number of features) for multinomial regression. (undefined)\n",
      "upperBoundsOnIntercepts: The upper bounds on intercepts if fitting under bound constrained optimization. The bound vector size must be equal with 1 for binomial regression, or the number of classes for multinomial regression. (undefined)\n",
      "weightCol: weight column name. If this is not set or empty, we treat all instance weights as 1.0. (undefined)\n",
      "\n",
      "Model 1 was fit using parameters: \n",
      "{Param(parent='LogisticRegression_f4187f38d913', name='aggregationDepth', doc='suggested depth for treeAggregate (>= 2).'): 2, Param(parent='LogisticRegression_f4187f38d913', name='elasticNetParam', doc='the ElasticNet mixing parameter, in range [0, 1]. For alpha = 0, the penalty is an L2 penalty. For alpha = 1, it is an L1 penalty.'): 0.0, Param(parent='LogisticRegression_f4187f38d913', name='family', doc='The name of family which is a description of the label distribution to be used in the model. Supported options: auto, binomial, multinomial'): 'auto', Param(parent='LogisticRegression_f4187f38d913', name='featuresCol', doc='features column name.'): 'features', Param(parent='LogisticRegression_f4187f38d913', name='fitIntercept', doc='whether to fit an intercept term.'): True, Param(parent='LogisticRegression_f4187f38d913', name='labelCol', doc='label column name.'): 'label', Param(parent='LogisticRegression_f4187f38d913', name='maxBlockSizeInMB', doc='maximum memory in MB for stacking input data into blocks. Data is stacked within partitions. If more than remaining data size in a partition then it is adjusted to the data size. Default 0.0 represents choosing optimal value, depends on specific algorithm. Must be >= 0.'): 0.0, Param(parent='LogisticRegression_f4187f38d913', name='maxIter', doc='max number of iterations (>= 0).'): 10, Param(parent='LogisticRegression_f4187f38d913', name='predictionCol', doc='prediction column name.'): 'prediction', Param(parent='LogisticRegression_f4187f38d913', name='probabilityCol', doc='Column name for predicted class conditional probabilities. Note: Not all models output well-calibrated probability estimates! These probabilities should be treated as confidences, not precise probabilities.'): 'probability', Param(parent='LogisticRegression_f4187f38d913', name='rawPredictionCol', doc='raw prediction (a.k.a. confidence) column name.'): 'rawPrediction', Param(parent='LogisticRegression_f4187f38d913', name='regParam', doc='regularization parameter (>= 0).'): 0.01, Param(parent='LogisticRegression_f4187f38d913', name='standardization', doc='whether to standardize the training features before fitting the model.'): True, Param(parent='LogisticRegression_f4187f38d913', name='threshold', doc='Threshold in binary classification prediction, in range [0, 1]. If threshold and thresholds are both set, they must match.e.g. if threshold is p, then thresholds must be equal to [1-p, p].'): 0.5, Param(parent='LogisticRegression_f4187f38d913', name='tol', doc='the convergence tolerance for iterative algorithms (>= 0).'): 1e-06}\n",
      "Model 2 was fit using parameters: \n",
      "{Param(parent='LogisticRegression_f4187f38d913', name='aggregationDepth', doc='suggested depth for treeAggregate (>= 2).'): 2, Param(parent='LogisticRegression_f4187f38d913', name='elasticNetParam', doc='the ElasticNet mixing parameter, in range [0, 1]. For alpha = 0, the penalty is an L2 penalty. For alpha = 1, it is an L1 penalty.'): 0.0, Param(parent='LogisticRegression_f4187f38d913', name='family', doc='The name of family which is a description of the label distribution to be used in the model. Supported options: auto, binomial, multinomial'): 'auto', Param(parent='LogisticRegression_f4187f38d913', name='featuresCol', doc='features column name.'): 'features', Param(parent='LogisticRegression_f4187f38d913', name='fitIntercept', doc='whether to fit an intercept term.'): True, Param(parent='LogisticRegression_f4187f38d913', name='labelCol', doc='label column name.'): 'label', Param(parent='LogisticRegression_f4187f38d913', name='maxBlockSizeInMB', doc='maximum memory in MB for stacking input data into blocks. Data is stacked within partitions. If more than remaining data size in a partition then it is adjusted to the data size. Default 0.0 represents choosing optimal value, depends on specific algorithm. Must be >= 0.'): 0.0, Param(parent='LogisticRegression_f4187f38d913', name='maxIter', doc='max number of iterations (>= 0).'): 30, Param(parent='LogisticRegression_f4187f38d913', name='predictionCol', doc='prediction column name.'): 'prediction', Param(parent='LogisticRegression_f4187f38d913', name='probabilityCol', doc='Column name for predicted class conditional probabilities. Note: Not all models output well-calibrated probability estimates! These probabilities should be treated as confidences, not precise probabilities.'): 'myProbability', Param(parent='LogisticRegression_f4187f38d913', name='rawPredictionCol', doc='raw prediction (a.k.a. confidence) column name.'): 'rawPrediction', Param(parent='LogisticRegression_f4187f38d913', name='regParam', doc='regularization parameter (>= 0).'): 0.1, Param(parent='LogisticRegression_f4187f38d913', name='standardization', doc='whether to standardize the training features before fitting the model.'): True, Param(parent='LogisticRegression_f4187f38d913', name='threshold', doc='Threshold in binary classification prediction, in range [0, 1]. If threshold and thresholds are both set, they must match.e.g. if threshold is p, then thresholds must be equal to [1-p, p].'): 0.55, Param(parent='LogisticRegression_f4187f38d913', name='tol', doc='the convergence tolerance for iterative algorithms (>= 0).'): 1e-06}\n",
      "features=[-1.0,1.5,1.3], label=1.0 -> prob=[0.05707304171034022,0.9429269582896598], prediction=1.0\n",
      "features=[3.0,2.0,-0.1], label=0.0 -> prob=[0.9238522311704105,0.07614776882958951], prediction=0.0\n",
      "features=[0.0,2.2,-1.5], label=1.0 -> prob=[0.10972776114779466,0.8902722388522053], prediction=1.0\n"
     ]
    }
   ],
   "source": [
    "from pyspark.ml.linalg import Vectors\n",
    "from pyspark.ml.classification import LogisticRegression\n",
    "\n",
    "# Prepare training data from a list of (label, features) tuples.\n",
    "training = spark.createDataFrame([\n",
    "    (1.0, Vectors.dense([0.0, 1.1, 0.1])),\n",
    "    (0.0, Vectors.dense([2.0, 1.0, -1.0])),\n",
    "    (0.0, Vectors.dense([2.0, 1.3, 1.0])),\n",
    "    (1.0, Vectors.dense([0.0, 1.2, -0.5]))], [\"label\", \"features\"])\n",
    "\n",
    "# Create a LogisticRegression instance. This instance is an Estimator.\n",
    "lr = LogisticRegression(maxIter=10, regParam=0.01)\n",
    "# Print out the parameters, documentation, and any default values.\n",
    "print(\"LogisticRegression parameters:\\n\" + lr.explainParams() + \"\\n\")\n",
    "\n",
    "# Learn a LogisticRegression model. This uses the parameters stored in lr.\n",
    "model1 = lr.fit(training)\n",
    "\n",
    "# Since model1 is a Model (i.e., a transformer produced by an Estimator),\n",
    "# we can view the parameters it used during fit().\n",
    "# This prints the parameter (name: value) pairs, where names are unique IDs for this\n",
    "# LogisticRegression instance.\n",
    "print(\"Model 1 was fit using parameters: \")\n",
    "print(model1.extractParamMap())\n",
    "\n",
    "# We may alternatively specify parameters using a Python dictionary as a paramMap\n",
    "paramMap = {lr.maxIter: 20}\n",
    "paramMap[lr.maxIter] = 30  # Specify 1 Param, overwriting the original maxIter.\n",
    "# Specify multiple Params.\n",
    "paramMap.update({lr.regParam: 0.1, lr.threshold: 0.55})  # type: ignore\n",
    "\n",
    "# You can combine paramMaps, which are python dictionaries.\n",
    "# Change output column name\n",
    "paramMap2 = {lr.probabilityCol: \"myProbability\"}  # type: ignore\n",
    "paramMapCombined = paramMap.copy()\n",
    "paramMapCombined.update(paramMap2)  # type: ignore\n",
    "\n",
    "# Now learn a new model using the paramMapCombined parameters.\n",
    "# paramMapCombined overrides all parameters set earlier via lr.set* methods.\n",
    "model2 = lr.fit(training, paramMapCombined)\n",
    "print(\"Model 2 was fit using parameters: \")\n",
    "print(model2.extractParamMap())\n",
    "\n",
    "# Prepare test data\n",
    "test = spark.createDataFrame([\n",
    "    (1.0, Vectors.dense([-1.0, 1.5, 1.3])),\n",
    "    (0.0, Vectors.dense([3.0, 2.0, -0.1])),\n",
    "    (1.0, Vectors.dense([0.0, 2.2, -1.5]))], [\"label\", \"features\"])\n",
    "\n",
    "# Make predictions on test data using the Transformer.transform() method.\n",
    "# LogisticRegression.transform will only use the 'features' column.\n",
    "# Note that model2.transform() outputs a \"myProbability\" column instead of the usual\n",
    "# 'probability' column since we renamed the lr.probabilityCol parameter previously.\n",
    "prediction = model2.transform(test)\n",
    "result = prediction.select(\"features\", \"label\", \"myProbability\", \"prediction\") \\\n",
    "    .collect()\n",
    "\n",
    "for row in result:\n",
    "    print(\"features=%s, label=%s -> prob=%s, prediction=%s\"\n",
    "          % (row.features, row.label, row.myProbability, row.prediction))"
   ]
  },
  {
   "cell_type": "markdown",
   "id": "valid-truth",
   "metadata": {},
   "source": [
    "### Example: Pipeline"
   ]
  },
  {
   "cell_type": "code",
   "execution_count": 28,
   "id": "vertical-volume",
   "metadata": {},
   "outputs": [
    {
     "name": "stdout",
     "output_type": "stream",
     "text": [
      "(4, spark i j k) --> prob=[0.1596407738787412,0.8403592261212588], prediction=1.000000\n",
      "(5, l m n) --> prob=[0.8378325685476614,0.16216743145233858], prediction=0.000000\n",
      "(6, spark hadoop spark) --> prob=[0.06926633132976266,0.9307336686702373], prediction=1.000000\n",
      "(7, apache hadoop) --> prob=[0.9821575333444208,0.017842466655579203], prediction=0.000000\n"
     ]
    }
   ],
   "source": [
    "from pyspark.ml import Pipeline\n",
    "from pyspark.ml.classification import LogisticRegression\n",
    "from pyspark.ml.feature import HashingTF, Tokenizer\n",
    "\n",
    "# Prepare training documents from a list of (id, text, label) tuples.\n",
    "training = spark.createDataFrame([\n",
    "    (0, \"a b c d e spark\", 1.0),\n",
    "    (1, \"b d\", 0.0),\n",
    "    (2, \"spark f g h\", 1.0),\n",
    "    (3, \"hadoop mapreduce\", 0.0)\n",
    "], [\"id\", \"text\", \"label\"])\n",
    "\n",
    "# Configure an ML pipeline, which consists of three stages: tokenizer, hashingTF, and lr.\n",
    "tokenizer = Tokenizer(inputCol=\"text\", outputCol=\"words\")\n",
    "hashingTF = HashingTF(inputCol=tokenizer.getOutputCol(), outputCol=\"features\")\n",
    "lr = LogisticRegression(maxIter=10, regParam=0.001)\n",
    "pipeline = Pipeline(stages=[tokenizer, hashingTF, lr])\n",
    "\n",
    "# Fit the pipeline to training documents.\n",
    "model = pipeline.fit(training)\n",
    "\n",
    "# Prepare test documents, which are unlabeled (id, text) tuples.\n",
    "test = spark.createDataFrame([\n",
    "    (4, \"spark i j k\"),\n",
    "    (5, \"l m n\"),\n",
    "    (6, \"spark hadoop spark\"),\n",
    "    (7, \"apache hadoop\")\n",
    "], [\"id\", \"text\"])\n",
    "\n",
    "# Make predictions on test documents and print columns of interest.\n",
    "prediction = model.transform(test)\n",
    "selected = prediction.select(\"id\", \"text\", \"probability\", \"prediction\")\n",
    "for row in selected.collect():\n",
    "    rid, text, prob, prediction = row  # type: ignore\n",
    "    print(\n",
    "        \"(%d, %s) --> prob=%s, prediction=%f\" % (\n",
    "            rid, text, str(prob), prediction   # type: ignore\n",
    "        )\n",
    "    )"
   ]
  },
  {
   "cell_type": "markdown",
   "id": "following-dividend",
   "metadata": {},
   "source": [
    "# Задание 4: Построить модель предсказаний"
   ]
  },
  {
   "cell_type": "code",
   "execution_count": 2,
   "id": "static-termination",
   "metadata": {},
   "outputs": [],
   "source": [
    "from pyspark.ml import Pipeline\n",
    "from pyspark.ml.classification import LogisticRegression\n",
    "from pyspark.ml.feature import HashingTF, Tokenizer\n",
    "from pyspark.sql import Row\n",
    "from pyspark.sql.functions import UserDefinedFunction\n",
    "from pyspark.sql.types import *"
   ]
  },
  {
   "cell_type": "code",
   "execution_count": 5,
   "id": "cathedral-olive",
   "metadata": {},
   "outputs": [
    {
     "name": "stdout",
     "output_type": "stream",
     "text": [
      "root\n",
      " |-- Inspection ID: string (nullable = true)\n",
      " |-- DBA Name: string (nullable = true)\n",
      " |-- AKA Name: string (nullable = true)\n",
      " |-- License #: string (nullable = true)\n",
      " |-- Facility Type: string (nullable = true)\n",
      " |-- Risk: string (nullable = true)\n",
      " |-- Address: string (nullable = true)\n",
      " |-- City: string (nullable = true)\n",
      " |-- State: string (nullable = true)\n",
      " |-- Zip: string (nullable = true)\n",
      " |-- Inspection Date: string (nullable = true)\n",
      " |-- Inspection Type: string (nullable = true)\n",
      " |-- Results: string (nullable = true)\n",
      " |-- Violations: string (nullable = true)\n",
      " |-- Latitude: string (nullable = true)\n",
      " |-- Longitude: string (nullable = true)\n",
      " |-- Location: string (nullable = true)\n",
      "\n"
     ]
    }
   ],
   "source": [
    "df = spark.read.option(\"header\",True).csv(\"Food_Inspections.csv\")\n",
    "df.printSchema()"
   ]
  },
  {
   "cell_type": "code",
   "execution_count": 6,
   "id": "frequent-technique",
   "metadata": {},
   "outputs": [
    {
     "name": "stdout",
     "output_type": "stream",
     "text": [
      "+-------------+--------------------+------------------+--------------------+\n",
      "|Inspection ID|            DBA Name|           Results|          Violations|\n",
      "+-------------+--------------------+------------------+--------------------+\n",
      "|       413253|      SAIGON SISTERS|              Pass|32. FOOD AND NON-...|\n",
      "|       414170|        DELUXE DINER|              Pass|30. FOOD IN ORIGI...|\n",
      "|       166213|D ARCOS PIZZA RES...|              Pass|33. FOOD AND NON-...|\n",
      "|       413597|CENTRO NUESTRO GE...|              Pass|35. WALLS, CEILIN...|\n",
      "|       317308| 63RD FOOD MART, INC|              Fail|16. FOOD PROTECTE...|\n",
      "|       327262|   PADDY O'SPLAINE'S|              Pass|33. FOOD AND NON-...|\n",
      "|       278167|  CORNER BAKERY CAFE|Pass w/ Conditions|21. * CERTIFIED F...|\n",
      "|       114542|GILT BAR/DOUGHNUT...|              Pass|31. CLEAN MULTI-U...|\n",
      "|       413643|   rendezvous bistro|              Fail|1. SOURCE SOUND C...|\n",
      "|       413693|    GINZA RESTAURANT|              Pass|33. FOOD AND NON-...|\n",
      "|       277936|      V. JIANG, INC.|              Fail|13. NO EVIDENCE O...|\n",
      "|       285061|           DUCK WALK|              Pass|32. FOOD AND NON-...|\n",
      "|       278122|MI TAQUITO DE BIR...|              Fail|2. FACILITIES TO ...|\n",
      "|       413454|POTBELLY SANDWICH...|              Pass|33. FOOD AND NON-...|\n",
      "|       154519|Rotisserie Ent & ...|              Pass|34. FLOORS: CONST...|\n",
      "|       365300|HOUND DOG, BURGER...|              Pass|30. FOOD IN ORIGI...|\n",
      "|       413302|La Ciudad Mexican...|Pass w/ Conditions|41. PREMISES MAIN...|\n",
      "|       343267|RIVERSIDE LOBBY SHOP|              Pass|34. FLOORS: CONST...|\n",
      "|       284972|      THE PLAZA CAFE|Pass w/ Conditions|3. POTENTIALLY HA...|\n",
      "|       154529|               DERBY|              Fail|2. FACILITIES TO ...|\n",
      "+-------------+--------------------+------------------+--------------------+\n",
      "only showing top 20 rows\n",
      "\n"
     ]
    }
   ],
   "source": [
    "data = df.select('Inspection ID','DBA Name','Results','Violations').filter(F.col('Violations').isNotNull())\n",
    "data.show()"
   ]
  },
  {
   "cell_type": "code",
   "execution_count": 7,
   "id": "banned-foundation",
   "metadata": {},
   "outputs": [
    {
     "name": "stdout",
     "output_type": "stream",
     "text": [
      "+------------------+\n",
      "|           Results|\n",
      "+------------------+\n",
      "|         Not Ready|\n",
      "|              Fail|\n",
      "|          No Entry|\n",
      "|Pass w/ Conditions|\n",
      "|   Out of Business|\n",
      "|              Pass|\n",
      "+------------------+\n",
      "\n"
     ]
    }
   ],
   "source": [
    "data.registerTempTable('CountResults')\n",
    "data.select('Results').distinct().show()"
   ]
  },
  {
   "cell_type": "code",
   "execution_count": 8,
   "id": "ranging-trading",
   "metadata": {},
   "outputs": [
    {
     "data": {
      "text/html": [
       "<div>\n",
       "<style scoped>\n",
       "    .dataframe tbody tr th:only-of-type {\n",
       "        vertical-align: middle;\n",
       "    }\n",
       "\n",
       "    .dataframe tbody tr th {\n",
       "        vertical-align: top;\n",
       "    }\n",
       "\n",
       "    .dataframe thead th {\n",
       "        text-align: right;\n",
       "    }\n",
       "</style>\n",
       "<table border=\"1\" class=\"dataframe\">\n",
       "  <thead>\n",
       "    <tr style=\"text-align: right;\">\n",
       "      <th></th>\n",
       "      <th>cnt</th>\n",
       "      <th>results</th>\n",
       "    </tr>\n",
       "  </thead>\n",
       "  <tbody>\n",
       "    <tr>\n",
       "      <th>0</th>\n",
       "      <td>64</td>\n",
       "      <td>Not Ready</td>\n",
       "    </tr>\n",
       "    <tr>\n",
       "      <th>1</th>\n",
       "      <td>38843</td>\n",
       "      <td>Fail</td>\n",
       "    </tr>\n",
       "    <tr>\n",
       "      <th>2</th>\n",
       "      <td>556</td>\n",
       "      <td>No Entry</td>\n",
       "    </tr>\n",
       "    <tr>\n",
       "      <th>3</th>\n",
       "      <td>32624</td>\n",
       "      <td>Pass w/ Conditions</td>\n",
       "    </tr>\n",
       "    <tr>\n",
       "      <th>4</th>\n",
       "      <td>32</td>\n",
       "      <td>Out of Business</td>\n",
       "    </tr>\n",
       "    <tr>\n",
       "      <th>5</th>\n",
       "      <td>87668</td>\n",
       "      <td>Pass</td>\n",
       "    </tr>\n",
       "  </tbody>\n",
       "</table>\n",
       "</div>"
      ],
      "text/plain": [
       "     cnt             results\n",
       "0     64           Not Ready\n",
       "1  38843                Fail\n",
       "2    556            No Entry\n",
       "3  32624  Pass w/ Conditions\n",
       "4     32     Out of Business\n",
       "5  87668                Pass"
      ]
     },
     "execution_count": 8,
     "metadata": {},
     "output_type": "execute_result"
    }
   ],
   "source": [
    "countResultsdf = spark.sql(\"SELECT COUNT(results) AS cnt, results as results FROM CountResults GROUP BY results\") \\\n",
    "    .toPandas()\n",
    "countResultsdf"
   ]
  },
  {
   "cell_type": "code",
   "execution_count": 49,
   "id": "cheap-missile",
   "metadata": {},
   "outputs": [
    {
     "data": {
      "text/plain": [
       "(-1.1106872540643276,\n",
       " 1.1005089191805417,\n",
       " -1.1110057574983963,\n",
       " 1.104631221389139)"
      ]
     },
     "execution_count": 49,
     "metadata": {},
     "output_type": "execute_result"
    },
    {
     "data": {
      "image/png": "[encoded data removed]",
      "text/plain": [
       "<Figure size 432x288 with 1 Axes>"
      ]
     },
     "metadata": {},
     "output_type": "display_data"
    }
   ],
   "source": [
    "%matplotlib inline\n",
    "import matplotlib.pyplot as plt\n",
    "\n",
    "labels = countResultsdf['results']\n",
    "sizes = countResultsdf['cnt']\n",
    "colors = ['turquoise', 'seagreen', 'mediumslateblue', 'palegreen', 'coral']\n",
    "plt.pie(sizes, labels=labels, autopct='%1.1f%%', colors=colors)\n",
    "plt.axis('equal')"
   ]
  },
  {
   "cell_type": "code",
   "execution_count": 9,
   "id": "rising-belfast",
   "metadata": {},
   "outputs": [],
   "source": [
    "def labelForResults(s):\n",
    "    if s == 'Fail':\n",
    "        return 0.0\n",
    "    elif s == 'Pass w/ Conditions' or s == 'Pass':\n",
    "        return 1.0\n",
    "    else:\n",
    "        return -1.0\n",
    "    \n",
    "label = UserDefinedFunction(labelForResults, DoubleType())\n",
    "labeledData = data.select(label(data.Results).alias('label'), data.Violations).where('label >= 0')"
   ]
  },
  {
   "cell_type": "code",
   "execution_count": 51,
   "id": "violent-guinea",
   "metadata": {},
   "outputs": [
    {
     "data": {
      "text/plain": [
       "[Row(label=1.0, Violations='32. FOOD AND NON-FOOD CONTACT SURFACES PROPERLY DESIGNED, CONSTRUCTED AND MAINTAINED - Comments: All food and non-food contact equipment and utensils shall be smooth, easily cleanable, and durable, and shall be in good repair. CUTTING BOARDS WITH DEEP/DARK GROOVES MUST BE SANDED/BLEACHED TO MAKE FOOD CONTACT SURFACES SMOOTH/EASILY CLEANABLE. | 34. FLOORS: CONSTRUCTED PER CODE, CLEANED, GOOD REPAIR, COVING INSTALLED, DUST-LESS CLEANING METHODS USED - Comments: The floors shall be constructed per code, be smooth and easily cleaned, and be kept clean and in good repair. FLOORS UNDER EQUIPMENT NEED CLEANING DUE TO FOOD DEBRIS; ALL STOCK MUST BE ELEVATED OFF THE FLOOR FOR EASY CLEANING/PEST MONITORING. | 35. WALLS, CEILINGS, ATTACHED EQUIPMENT CONSTRUCTED PER CODE: GOOD REPAIR, SURFACES CLEAN AND DUST-LESS CLEANING METHODS - Comments: The walls and ceilings shall be in good repair and easily cleaned. FILTERS OF HOOD MUST BE FREE OF GREASE/DUST BUILD-UP.')]"
      ]
     },
     "execution_count": 51,
     "metadata": {},
     "output_type": "execute_result"
    }
   ],
   "source": [
    "labeledData.take(1)"
   ]
  },
  {
   "cell_type": "code",
   "execution_count": 10,
   "id": "injured-tower",
   "metadata": {},
   "outputs": [],
   "source": [
    "train, test = labeledData.randomSplit([0.8, 0.2], seed=22)"
   ]
  },
  {
   "cell_type": "code",
   "execution_count": 55,
   "id": "introductory-roots",
   "metadata": {},
   "outputs": [
    {
     "name": "stdout",
     "output_type": "stream",
     "text": [
      "All dataset size:  159135\n",
      "Train dataset size:  127083\n",
      "Test dataset size:  32052\n"
     ]
    }
   ],
   "source": [
    "print('All dataset size: ', labeledData.count())\n",
    "print('Train dataset size: ', train.count())\n",
    "print('Test dataset size: ', test.count())"
   ]
  },
  {
   "cell_type": "code",
   "execution_count": 11,
   "id": "banned-pollution",
   "metadata": {},
   "outputs": [],
   "source": [
    "tokenizer = Tokenizer(inputCol=\"Violations\", outputCol=\"words\")\n",
    "hashingTF = HashingTF(inputCol=tokenizer.getOutputCol(), outputCol=\"features\")\n",
    "lr = LogisticRegression(maxIter=10, regParam=0.01)\n",
    "pipeline = Pipeline(stages=[tokenizer, hashingTF, lr])\n",
    "\n",
    "model = pipeline.fit(train)"
   ]
  },
  {
   "cell_type": "code",
   "execution_count": 12,
   "id": "foreign-myrtle",
   "metadata": {},
   "outputs": [
    {
     "data": {
      "text/plain": [
       "['label',\n",
       " 'Violations',\n",
       " 'words',\n",
       " 'features',\n",
       " 'rawPrediction',\n",
       " 'probability',\n",
       " 'prediction']"
      ]
     },
     "execution_count": 12,
     "metadata": {},
     "output_type": "execute_result"
    }
   ],
   "source": [
    "predictionsDf = model.transform(test)\n",
    "predictionsDf.registerTempTable('Predictions')\n",
    "predictionsDf.columns"
   ]
  },
  {
   "cell_type": "code",
   "execution_count": 13,
   "id": "functional-viking",
   "metadata": {},
   "outputs": [
    {
     "name": "stdout",
     "output_type": "stream",
     "text": [
      "There were 32052 inspections and there were 29812 successful predictions\n",
      "This is a 93.01135654561338% success rate\n"
     ]
    }
   ],
   "source": [
    "numSuccesses = predictionsDf.where(\"\"\"(prediction = 0 AND label = 0) OR\n",
    "                                        (prediction = 1 AND label = 1)\"\"\").count()\n",
    "numInspections = predictionsDf.count()\n",
    "\n",
    "print(\"There were\", numInspections, \"inspections and there were\", numSuccesses, \"successful predictions\")\n",
    "print(\"This is a\", str((float(numSuccesses) / float(numInspections)) * 100) + \"%\", \"success rate\")"
   ]
  },
  {
   "cell_type": "code",
   "execution_count": 15,
   "id": "dense-documentary",
   "metadata": {},
   "outputs": [],
   "source": [
    "true_positive = spark.sql(\"SELECT count(*) AS cnt FROM Predictions WHERE prediction = 0 AND label = 0\").toPandas()\n",
    "false_positive = spark.sql(\"SELECT count(*) AS cnt FROM Predictions WHERE prediction = 0 AND label = 1\").toPandas()\n",
    "true_negative = spark.sql(\"SELECT count(*) AS cnt FROM Predictions WHERE prediction = 1 AND label = 0\").toPandas()\n",
    "false_negative = spark.sql(\"SELECT count(*) AS cnt FROM Predictions WHERE prediction = 1 AND label = 1\").toPandas()"
   ]
  },
  {
   "cell_type": "code",
   "execution_count": 17,
   "id": "fossil-hardwood",
   "metadata": {},
   "outputs": [
    {
     "data": {
      "text/plain": [
       "(-1.105175348460792,\n",
       " 1.1002464463630626,\n",
       " -1.118160457963138,\n",
       " 1.1201694000154354)"
      ]
     },
     "execution_count": 17,
     "metadata": {},
     "output_type": "execute_result"
    },
    {
     "data": {
      "image/png": "[encoded data removed]",
      "text/plain": [
       "<Figure size 432x288 with 1 Axes>"
      ]
     },
     "metadata": {},
     "output_type": "display_data"
    }
   ],
   "source": [
    "%matplotlib inline\n",
    "import matplotlib.pyplot as plt\n",
    "\n",
    "labels = ['True positive', 'False positive', 'False negative', 'True negative']\n",
    "sizes = [true_positive['cnt'][0], false_positive['cnt'][0], false_negative['cnt'][0], true_negative['cnt'][0]]\n",
    "colors = ['turquoise', 'seagreen', 'mediumslateblue', 'palegreen', 'coral']\n",
    "plt.pie(sizes, labels=labels, autopct='%1.1f%%', colors=colors)\n",
    "plt.axis('equal')"
   ]
  }
 ],
 "metadata": {
  "kernelspec": {
   "display_name": "Python 3",
   "language": "python",
   "name": "python3"
  },
  "language_info": {
   "codemirror_mode": {
    "name": "ipython",
    "version": 3
   },
   "file_extension": ".py",
   "mimetype": "text/x-python",
   "name": "python",
   "nbconvert_exporter": "python",
   "pygments_lexer": "ipython3",
   "version": "3.8.8"
  }
 },
 "nbformat": 4,
 "nbformat_minor": 5
}
